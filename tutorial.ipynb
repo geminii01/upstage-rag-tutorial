{
 "cells": [
  {
   "cell_type": "code",
   "execution_count": null,
   "id": "3f2793ba",
   "metadata": {},
   "outputs": [],
   "source": [
    "# 라이브러리 설치 (Python version 3.13.3)\n",
    "%pip install -r requirements.txt"
   ]
  },
  {
   "cell_type": "code",
   "execution_count": 1,
   "id": "51261386",
   "metadata": {},
   "outputs": [],
   "source": [
    "import os\n",
    "import json\n",
    "import requests\n",
    "import warnings\n",
    "\n",
    "warnings.filterwarnings(\"ignore\")\n",
    "\n",
    "from collections import Counter\n",
    "from dotenv import load_dotenv\n",
    "\n",
    "from openai import OpenAI\n",
    "from langchain_text_splitters import RecursiveCharacterTextSplitter\n",
    "from sentence_transformers import SentenceTransformer\n",
    "from qdrant_client import QdrantClient, models\n",
    "\n",
    "load_dotenv()\n",
    "api_key = os.getenv(\"UPSTAGE_API_KEY\")"
   ]
  },
  {
   "cell_type": "markdown",
   "id": "0eafe3b4",
   "metadata": {},
   "source": [
    "## 1. Indexing"
   ]
  },
  {
   "cell_type": "markdown",
   "id": "f55ea1e6",
   "metadata": {},
   "source": [
    "## Load"
   ]
  },
  {
   "cell_type": "markdown",
   "id": "ef0b8a1c",
   "metadata": {},
   "source": [
    "### Document Parse로 PDF 파싱하기"
   ]
  },
  {
   "cell_type": "code",
   "execution_count": 2,
   "id": "baa185c5",
   "metadata": {},
   "outputs": [],
   "source": [
    "# 사용할 문서를 작성\n",
    "filename = \"./data/전자서명법(법률)(제18479호)(20221020).pdf\"\n",
    "\n",
    "# API 호출\n",
    "url = \"https://api.upstage.ai/v1/document-digitization\"\n",
    "headers = {\"Authorization\": f\"Bearer {api_key}\"}\n",
    "files = {\"document\": open(filename, \"rb\")}\n",
    "data = {\n",
    "    \"output_formats\": \"['html', 'markdown', 'text']\",  # 출력 형식을 지정할 수 있음\n",
    "    \"ocr\": \"force\",\n",
    "    \"base64_encoding\": \"['figure']\",\n",
    "    \"model\": \"document-parse\",\n",
    "}\n",
    "dp_result = requests.post(url, headers=headers, files=files, data=data)\n",
    "\n",
    "# 결과를 json 파일로 저장\n",
    "with open(\"./dp_result.json\", \"w\", encoding=\"utf-8\") as f:\n",
    "    json.dump(dp_result.json(), f, ensure_ascii=False, indent=2)"
   ]
  },
  {
   "cell_type": "code",
   "execution_count": 3,
   "id": "612105a4",
   "metadata": {},
   "outputs": [
    {
     "name": "stdout",
     "output_type": "stream",
     "text": [
      "[ Category 분포 확인 ]\n",
      "- paragraph: 42\n",
      "- list: 18\n",
      "- footer: 18\n",
      "- header: 6\n",
      "- heading1: 2\n",
      "\n",
      "[ 파싱 결과 일부 확인 ]\n",
      "ID 3\n",
      "- Category: paragraph\n",
      "- Content: 제1조(목적) 이 법은 전자문서의 안전성과 신뢰성을 확보하고 그 이용을 활성화하기 위하여  ...\n",
      "- Page: 1\n",
      "\n",
      "ID 4\n",
      "- Category: heading1\n",
      "- Content: 제2조(정의) 이 법에서 사용하는 용어의 뜻은 다음과 같다. ...\n",
      "- Page: 1\n",
      "\n",
      "ID 5\n",
      "- Category: list\n",
      "- Content: 1. \"전자문서\"란 정보처리시스템에 의하여 전자적 형태로 작성되어 송신 또는 수신되거나 저 ...\n",
      "- Page: 1\n",
      "\n"
     ]
    }
   ],
   "source": [
    "# json 파일 로드\n",
    "with open(\"./dp_result.json\", \"r\", encoding=\"utf-8\") as f:\n",
    "    data = json.load(f)\n",
    "\n",
    "# 파싱 결과 확인\n",
    "categories = [elem[\"category\"] for elem in data[\"elements\"]]\n",
    "print(\"[ Category 분포 확인 ]\")\n",
    "for category, count in Counter(categories).most_common():\n",
    "    print(f\"- {category}: {count}\")\n",
    "\n",
    "print(\"\\n[ 파싱 결과 일부 확인 ]\")\n",
    "for elem in data[\"elements\"][3:6]:\n",
    "    print(f\"ID {elem['id']}\")\n",
    "    print(f\"- Category: {elem['category']}\")\n",
    "    print(f\"- Content: {elem['content']['text'][:50]} ...\")\n",
    "    print(f\"- Page: {elem['page']}\\n\")"
   ]
  },
  {
   "cell_type": "markdown",
   "id": "c45fd06e",
   "metadata": {},
   "source": [
    "### 데이터 전처리"
   ]
  },
  {
   "cell_type": "code",
   "execution_count": 4,
   "id": "6d3259a7",
   "metadata": {},
   "outputs": [
    {
     "name": "stdout",
     "output_type": "stream",
     "text": [
      "[ 문서 구조 확인: footer ]\n",
      "\n",
      "=========== Page 1 ==========\n",
      "\n",
      "법제처\n",
      "1\n",
      "국가법령정보센터\n",
      "\n",
      "=========== Page 2 ==========\n",
      "\n",
      "법제처\n",
      "2\n",
      "국가법령정보센터\n",
      "\n",
      "=========== Page 3 ==========\n",
      "\n",
      "법제처\n",
      "3\n",
      "국가법령정보센터\n",
      "\n",
      "=========== Page 4 ==========\n",
      "\n",
      "법제처\n",
      "4\n",
      "국가법령정보센터\n",
      "\n",
      "=========== Page 5 ==========\n",
      "\n",
      "법제처\n",
      "5\n",
      "국가법령정보 센터\n",
      "\n",
      "=========== Page 6 ==========\n",
      "\n",
      "법제처\n",
      "6\n",
      "국가법령정보센터\n"
     ]
    }
   ],
   "source": [
    "page_num = 0\n",
    "category_name = \"footer\"  # paragraph, heading1, list, header, footer\n",
    "print(f\"[ 문서 구조 확인: {category_name} ]\")\n",
    "for elem in data[\"elements\"]:\n",
    "    if elem[\"page\"] != page_num:\n",
    "        page_num = elem[\"page\"]\n",
    "        print(f\"\\n=========== Page {page_num} ==========\\n\")\n",
    "\n",
    "    if elem[\"category\"] == category_name:\n",
    "        print(elem[\"content\"][\"text\"])"
   ]
  },
  {
   "cell_type": "code",
   "execution_count": 5,
   "id": "b7c0f02c",
   "metadata": {},
   "outputs": [
    {
     "name": "stdout",
     "output_type": "stream",
     "text": [
      "- 전처리 전 텍스트 길이: 8796\n",
      "- 전처리 후 텍스트 길이: 8669\n",
      "\n",
      "- 첫 200자:\n",
      "전자서명법\n",
      "[시행 2022. 10. 20.] [법률 제18479호, 2021. 10. 19., 일부개정]\n",
      "과학기술정보통신부 (정보보호기획과) 044-202-6445, 6447\n",
      "제1조(목적) 이 법은 전자문서의 안전성과 신뢰성을 확보하고 그 이용을 활성화하기 위하여 전자서명에 관한 기본적인\n",
      "사항을 정함으로써 국가와 사회의 정보화를 촉진하고 국민생활의 편익을  ...\n"
     ]
    }
   ],
   "source": [
    "texts = []\n",
    "for elem in data[\"elements\"]:\n",
    "    category = elem[\"category\"]\n",
    "    text = elem[\"content\"][\"text\"]\n",
    "    # 필수 내용이 담긴 카테고리만 선택\n",
    "    if category in [\"paragraph\", \"list\", \"heading1\"]:\n",
    "        texts.append(text)\n",
    "texts = \"\\n\".join(texts)\n",
    "\n",
    "print(f\"- 전처리 전 텍스트 길이: {len(data[\"content\"][\"text\"])}\")\n",
    "print(f\"- 전처리 후 텍스트 길이: {len(texts)}\")\n",
    "print(f\"\\n- 첫 200자:\\n{texts[:200]} ...\")"
   ]
  },
  {
   "cell_type": "code",
   "execution_count": 6,
   "id": "ca51e165",
   "metadata": {},
   "outputs": [
    {
     "name": "stdout",
     "output_type": "stream",
     "text": [
      "- 첫 200자:\n",
      "제1조(목적) 이 법은 전자문서의 안전성과 신뢰성을 확보하고 그 이용을 활성화하기 위하여 전자서명에 관한 기본적인\n",
      "사항을 정함으로써 국가와 사회의 정보화를 촉진하고 국민생활의 편익을 증진함을 목적으로 한다.\n",
      "제2조(정의) 이 법에서 사용하는 용어의 뜻은 다음과 같다.\n",
      "1. \"전자문서\"란 정보처리시스템에 의하여 전자적 형태로 작성되어 송신 또는 수신되거나 저 ...\n"
     ]
    }
   ],
   "source": [
    "# 제1조(목적) 이전 부분 제거\n",
    "start_pos = texts.find(\"제1조(목적)\")\n",
    "if start_pos != -1:\n",
    "    cleaned_texts = texts[start_pos:]\n",
    "else:\n",
    "    cleaned_texts = texts\n",
    "print(f\"- 첫 200자:\\n{cleaned_texts[:200]} ...\")"
   ]
  },
  {
   "cell_type": "markdown",
   "id": "1a495c46",
   "metadata": {},
   "source": [
    "## Split"
   ]
  },
  {
   "cell_type": "code",
   "execution_count": 7,
   "id": "aaa76821",
   "metadata": {},
   "outputs": [
    {
     "name": "stdout",
     "output_type": "stream",
     "text": [
      "총 11개의 청크로 분할 완료\n"
     ]
    }
   ],
   "source": [
    "# 문서를 1000자 단위로 분할\n",
    "text_splitter = RecursiveCharacterTextSplitter(\n",
    "    chunk_size=1000,  # 각 청크의 최대 크기\n",
    "    chunk_overlap=200,  # 청크 간 겹치는 부분 (맥락 유지)\n",
    ")\n",
    "split_texts = text_splitter.split_text(cleaned_texts)\n",
    "print(f\"총 {len(split_texts)}개의 청크로 분할 완료\")"
   ]
  },
  {
   "cell_type": "code",
   "execution_count": 8,
   "id": "3eee9bfc",
   "metadata": {},
   "outputs": [
    {
     "name": "stdout",
     "output_type": "stream",
     "text": [
      "[ 첫번째 Document 확인 ]\n",
      "\n",
      "- Content:\n",
      "제1조(목적) 이 법은 전자문서의 안전성과 신뢰성을 확보하고 그 이용을 활성화하기 위하여 전자서명에 관한 기본적인\n",
      "사항을 정함으로써 국가와 사회의 정보화를 촉진하고 국민생활의 편익을 증진함을 목적으로 한다.\n",
      "제2조(정의) 이 법에서 사용하는 용어의 뜻은 다음과 같다.\n",
      "1. \"전자문서\"란 정보처리시스템에 의하여 전자적 형태로 작성되어 송신 또는 수신되거나 저 ...\n",
      "\n",
      "- Metadata:\n",
      "{\n",
      "  \"filename\": \"전자서명법\",\n",
      "  \"enforcement_date\": \"2022-10-20\",\n",
      "  \"law_id\": 18479\n",
      "}\n"
     ]
    }
   ],
   "source": [
    "documents = []\n",
    "for content in split_texts:\n",
    "    document = {\n",
    "        \"content\": content,\n",
    "        \"metadata\": {\n",
    "            \"filename\": \"전자서명법\",\n",
    "            \"enforcement_date\": \"2022-10-20\",\n",
    "            \"law_id\": 18479,\n",
    "        },\n",
    "    }\n",
    "    documents.append(document)\n",
    "\n",
    "print(\"[ 첫번째 Document 확인 ]\\n\")\n",
    "print(f'- Content:\\n{documents[0][\"content\"][:200]} ...')\n",
    "print(\n",
    "    f'\\n- Metadata:\\n{json.dumps(documents[0][\"metadata\"], ensure_ascii=False, indent=2)}'\n",
    ")"
   ]
  },
  {
   "cell_type": "markdown",
   "id": "a1c536a7",
   "metadata": {},
   "source": [
    "## Embedding & Store"
   ]
  },
  {
   "cell_type": "code",
   "execution_count": 9,
   "id": "ac728b22",
   "metadata": {},
   "outputs": [
    {
     "name": "stderr",
     "output_type": "stream",
     "text": [
      "Loading checkpoint shards: 100%|██████████| 2/2 [00:12<00:00,  6.49s/it]\n"
     ]
    }
   ],
   "source": [
    "# 임베딩 모델 불러오기\n",
    "embedding_model = SentenceTransformer(\"Qwen/Qwen3-Embedding-4B\")"
   ]
  },
  {
   "cell_type": "code",
   "execution_count": 10,
   "id": "995e39d2",
   "metadata": {},
   "outputs": [
    {
     "data": {
      "text/plain": [
       "True"
      ]
     },
     "execution_count": 10,
     "metadata": {},
     "output_type": "execute_result"
    }
   ],
   "source": [
    "qdrant_path = \"./qdrant\"  # 로컬에 Qdrant 결과를 저장\n",
    "collection_name = \"law\"  # 문서가 저장될 그룹의 이름\n",
    "\n",
    "client = QdrantClient(path=qdrant_path)\n",
    "\n",
    "# collection 생성\n",
    "client.create_collection(\n",
    "    collection_name=collection_name,\n",
    "    vectors_config=models.VectorParams(\n",
    "        size=embedding_model.get_sentence_embedding_dimension(),\n",
    "        distance=models.Distance.COSINE,  # 코사인 유사도 사용\n",
    "    ),\n",
    ")"
   ]
  },
  {
   "cell_type": "code",
   "execution_count": 11,
   "id": "e0837675",
   "metadata": {},
   "outputs": [],
   "source": [
    "all_points = []\n",
    "for point_id, doc in enumerate(documents):\n",
    "    # 텍스트를 벡터로 변환\n",
    "    vector = embedding_model.encode(doc[\"content\"]).tolist()\n",
    "\n",
    "    # Qdrant에 저장할 point 생성\n",
    "    point = models.PointStruct(\n",
    "        id=point_id,\n",
    "        vector=vector,  # 변환된 벡터\n",
    "        payload={**doc},  # 벡터로 변환되지 않은 원본 텍스트와 메타데이터를 저장\n",
    "    )\n",
    "    all_points.append(point)\n",
    "\n",
    "# 모든 벡터를 Qdrant에 업로드\n",
    "client.upload_points(\n",
    "    collection_name=collection_name,\n",
    "    points=all_points,\n",
    ")"
   ]
  },
  {
   "cell_type": "markdown",
   "id": "7d31f7d0",
   "metadata": {},
   "source": [
    "## 2. Retrieval"
   ]
  },
  {
   "cell_type": "code",
   "execution_count": 12,
   "id": "8ea747f7",
   "metadata": {},
   "outputs": [],
   "source": [
    "user_query = \"전자서명의 발전을 위한 시책에는 어떤 것들이 있어?\"\n",
    "\n",
    "# 질문을 벡터로 변환\n",
    "query_vector = embedding_model.encode(user_query).tolist()"
   ]
  },
  {
   "cell_type": "code",
   "execution_count": 13,
   "id": "4690603f",
   "metadata": {},
   "outputs": [
    {
     "name": "stdout",
     "output_type": "stream",
     "text": [
      "[ 검색 결과 (상위 3개) ]\n",
      "\n",
      "0번째 결과 (유사도: 0.7321)\n",
      "Content: 제3조(전자서명의 효력) ① 전자서명은 전자적 형태라는 이유만으로 서명, 서명날인 또는 기명날인으로서의 효력이 부\n",
      "인되지 아니한다.\n",
      "② 법령의 규정 또는 당사자 간의 약정에 따라 서명, 서명날인 또는 기명날인의 방식으로 전자서명을 선택한 경우\n",
      "그 전자서명은 서명, 서명날인 또는 기명날인으로서의 효력을 가진다.\n",
      "제4조(전자서명의 발전을 위한 시책 수립) 정부는 전자서명의 안전성, 신뢰성 및 전자서명수단의 다양성을 확보하고 그\n",
      "이용을 활성화하는 등...\n",
      "--------------------------------------------------\n",
      "\n",
      "1번째 결과 (유사도: 0.5466)\n",
      "Content: 6. 그 밖에 전자서명의 이용 촉진을 위하여 필요한 사항\n",
      "제6조(다양한 전자서명수단의 이용 활성화) ① 국가는 생체인증, 블록체인 등 다양한 전자서명수단의 이용 활성화를 위\n",
      "하여 노력하여야 한다.\n",
      "② 국가는 법률, 국회규칙, 대법원규칙, 헌법재판소규칙, 중앙선거관리위원회규칙, 대통령령 또는 감사원규칙에서\n",
      "전자서명수단을 특정한 경우를 제외하고는 특정한 전자서명수단만을 이용하도록 제한하여서는 아니 된다.\n",
      "제7조(전자서명인증업무 운영기준 등) ① 과...\n",
      "--------------------------------------------------\n",
      "\n",
      "2번째 결과 (유사도: 0.5346)\n",
      "Content: 제1조(목적) 이 법은 전자문서의 안전성과 신뢰성을 확보하고 그 이용을 활성화하기 위하여 전자서명에 관한 기본적인\n",
      "사항을 정함으로써 국가와 사회의 정보화를 촉진하고 국민생활의 편익을 증진함을 목적으로 한다.\n",
      "제2조(정의) 이 법에서 사용하는 용어의 뜻은 다음과 같다.\n",
      "1. \"전자문서\"란 정보처리시스템에 의하여 전자적 형태로 작성되어 송신 또는 수신되거나 저장된 정보를 말한다.\n",
      "2. \"전자서명\"이란 다음 각 목의 사항을 나타내는 데 이용하기 위하...\n",
      "--------------------------------------------------\n"
     ]
    }
   ],
   "source": [
    "hits = client.search(\n",
    "    collection_name=collection_name,\n",
    "    query_vector=query_vector,\n",
    "    limit=3,  # 상위 3개로 설정\n",
    ")\n",
    "\n",
    "print(\"[ 검색 결과 (상위 3개) ]\")\n",
    "for i, hit in enumerate(hits):\n",
    "    print(f\"\\n{i}번째 결과 (유사도: {hit.score:.4f})\")\n",
    "    print(f\"Content: {hit.payload['content'][:250]}...\")\n",
    "    print(\"-\" * 50)"
   ]
  },
  {
   "cell_type": "markdown",
   "id": "c53338d5",
   "metadata": {},
   "source": [
    "## 3. Generation"
   ]
  },
  {
   "cell_type": "code",
   "execution_count": 14,
   "id": "9f4259ab",
   "metadata": {},
   "outputs": [
    {
     "name": "stdout",
     "output_type": "stream",
     "text": [
      "[ 생성된 Prompt 미리보기 ]\n",
      "사용자는 법률 문서와 관련된 질문을 하고 있습니다. 검색된 정보를 기반으로, 질문에 **간결하게** 답변해 주세요.\n",
      "\n",
      "RETRIEVED INFORMATION:\n",
      "제3조(전자서명의 효력) ① 전자서명은 전자적 형태라는 이유만으로 서명, 서명날인 또는 기명날인으로서의 효력이 부\n",
      "인되지 아니한다.\n",
      "② 법령의 규정 또는 당사자 간의 약정에 따라 서명, 서명날인 또는 기명날인의 방식으로 전자서명을 선택한 경우\n",
      "그 전자서명은 서명, 서명날인 또는 기명날인으로서의 효력을 가진다.\n",
      "제4조(전자서명의 발전을 위한 시책 수립) 정부는 전자서명의 안전성 ...\n"
     ]
    }
   ],
   "source": [
    "prompt_template = \"\"\"사용자는 법률 문서와 관련된 질문을 하고 있습니다. \\\n",
    "검색된 정보를 기반으로, 질문에 **간결하게** 답변해 주세요.\n",
    "\n",
    "RETRIEVED INFORMATION:\n",
    "{retrieved_documents}\n",
    "\n",
    "USER QUESTION:\n",
    "{user_query}\"\"\"\n",
    "\n",
    "\n",
    "def format_docs(hits):\n",
    "    \"\"\"검색된 문서들을 하나의 문자열로 합치기\"\"\"\n",
    "    doc_list = [hit.payload[\"content\"] for hit in hits]\n",
    "    return \"\\n\\n---\\n\\n\".join(doc_list)\n",
    "\n",
    "\n",
    "# 최종 프롬프트 확인\n",
    "final_prompt = prompt_template.format(\n",
    "    retrieved_documents=format_docs(hits),\n",
    "    user_query=user_query,\n",
    ")\n",
    "print(\"[ 생성된 Prompt 미리보기 ]\")\n",
    "print(final_prompt[:300], \"...\")"
   ]
  },
  {
   "cell_type": "code",
   "execution_count": 15,
   "id": "5fc63f4c",
   "metadata": {},
   "outputs": [
    {
     "name": "stdout",
     "output_type": "stream",
     "text": [
      "전자서명의 발전을 위한 시책은 다음과 같습니다(제4조 참조):  \n",
      "1. 전자서명 신뢰성 제고 및 수단 다양성 확보  \n",
      "2. 전자서명 제도 개선 및 관계 법령 정비  \n",
      "3. 가입자·이용자 권익 보호  \n",
      "4. 전자서명 상호연동 촉진  \n",
      "5. 기술개발·표준화·인력 양성  \n",
      "6. 안전한 암호 사용을 통한 신뢰성 확보  \n",
      "7. 외국 전자서명 상호인정 등 국제협력  \n",
      "8. 공공서비스 전자서명 안전 관리  \n",
      "9. 그 밖의 전자서명 발전을 위한 필요 사항  \n",
      "\n",
      "이 시책은 정부가 수립·시행하며, 전자서명의 안전성과 이용 활성화를 목표로 합니다."
     ]
    }
   ],
   "source": [
    "client = OpenAI(\n",
    "    api_key=api_key,\n",
    "    base_url=\"https://api.upstage.ai/v1\",\n",
    ")\n",
    "\n",
    "# 답변 생성\n",
    "stream = client.chat.completions.create(\n",
    "    model=\"solar-pro2\",\n",
    "    messages=[{\"role\": \"user\", \"content\": final_prompt}],\n",
    "    reasoning_effort=\"high\",  # ⭐️ 추론 모드\n",
    "    stream=True,\n",
    "    temperature=0.6,\n",
    "    top_p=0.9,\n",
    "    max_tokens=1024,\n",
    "    # 이 외에도 다른 파라미터를 설정할 수 있습니다\n",
    ")\n",
    "\n",
    "# stream 출력\n",
    "for chunk in stream:\n",
    "    response = chunk.choices[0].delta.content\n",
    "    if response is not None:\n",
    "        print(response, end=\"\")"
   ]
  }
 ],
 "metadata": {
  "kernelspec": {
   "display_name": "upstage-rag-tutorial-PFKKxhcP-py3.13",
   "language": "python",
   "name": "python3"
  },
  "language_info": {
   "codemirror_mode": {
    "name": "ipython",
    "version": 3
   },
   "file_extension": ".py",
   "mimetype": "text/x-python",
   "name": "python",
   "nbconvert_exporter": "python",
   "pygments_lexer": "ipython3",
   "version": "3.13.3"
  }
 },
 "nbformat": 4,
 "nbformat_minor": 5
}
